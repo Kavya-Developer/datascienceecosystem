{
 "cells": [
  {
   "cell_type": "markdown",
   "id": "e897e49e",
   "metadata": {},
   "source": [
    "# Data Science Tools and Ecosystem"
   ]
  },
  {
   "cell_type": "markdown",
   "id": "1fc2381a",
   "metadata": {},
   "source": [
    "In this notebook, Data Science tools and Ecosystem are summarized.\n"
   ]
  },
  {
   "cell_type": "markdown",
   "id": "a93e2f16",
   "metadata": {},
   "source": [
    "**Objectives:**\n",
    "\n",
    "- Popular languages for Data Science\n",
    "- Commonly used Libraries for Data Science\n",
    "- List of Data Science Tools\n",
    "- Examples of Arithmetic expressions in Python"
   ]
  },
  {
   "cell_type": "markdown",
   "id": "f53ad295",
   "metadata": {},
   "source": [
    "Some of the languages that Data Scienctists use are: \n",
    "\n",
    "1. Python\n",
    "2. R \n",
    "3. SQL\n"
   ]
  },
  {
   "cell_type": "markdown",
   "id": "be9ea06f",
   "metadata": {},
   "source": [
    "Some of the commonly used libraries used by Data Scientists include:\n",
    " 1. Pandas\n",
    " 2. NumPy\n",
    " 3. MatPlotlib"
   ]
  },
  {
   "cell_type": "markdown",
   "id": "31032b5c",
   "metadata": {},
   "source": [
    "| Data Science Tools |\n",
    "|--------------------|\n",
    "| Jupyter Notebooks |\n",
    "| RStudio |\n",
    "| Apache Zeppelin |"
   ]
  },
  {
   "cell_type": "markdown",
   "id": "88388085",
   "metadata": {},
   "source": [
    "### Below are a few examples of evaluating arithmetic expressions in Python\n",
    "\n"
   ]
  },
  {
   "cell_type": "code",
   "execution_count": 12,
   "id": "4ac26889",
   "metadata": {},
   "outputs": [
    {
     "name": "stdout",
     "output_type": "stream",
     "text": [
      "17\n"
     ]
    }
   ],
   "source": [
    "#This a simple arithmetic expression to mutiply then add integers. \n",
    "x = (3*4)+5 \n",
    "print(x)"
   ]
  },
  {
   "cell_type": "code",
   "execution_count": 17,
   "id": "65beef77",
   "metadata": {},
   "outputs": [
    {
     "name": "stdout",
     "output_type": "stream",
     "text": [
      "3.33 hours\n"
     ]
    }
   ],
   "source": [
    "#This will convert 200 minutes to hours by diving by 60\n",
    "y = 200 / 60\n",
    "z = round(y, 2)\n",
    "print(z, \"hours\")"
   ]
  },
  {
   "cell_type": "markdown",
   "id": "ed3622d2",
   "metadata": {},
   "source": [
    "## Author \n",
    "Shiva Kavya Golla"
   ]
  }
 ],
 "metadata": {
  "kernelspec": {
   "display_name": "Python 3 (ipykernel)",
   "language": "python",
   "name": "python3"
  },
  "language_info": {
   "codemirror_mode": {
    "name": "ipython",
    "version": 3
   },
   "file_extension": ".py",
   "mimetype": "text/x-python",
   "name": "python",
   "nbconvert_exporter": "python",
   "pygments_lexer": "ipython3",
   "version": "3.11.3"
  }
 },
 "nbformat": 4,
 "nbformat_minor": 5
}
